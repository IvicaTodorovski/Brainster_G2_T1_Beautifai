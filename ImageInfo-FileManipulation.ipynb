{
 "cells": [
  {
   "cell_type": "code",
   "execution_count": 127,
   "metadata": {
    "executionInfo": {
     "elapsed": 630,
     "status": "ok",
     "timestamp": 1612464438097,
     "user": {
      "displayName": "D K",
      "photoUrl": "",
      "userId": "10356666646179425358"
     },
     "user_tz": -60
    },
    "id": "cYo2PNZaB8ZD"
   },
   "outputs": [],
   "source": [
    "import os\n",
    "from google.colab import drive\n",
    "from PIL import Image"
   ]
  },
  {
   "cell_type": "code",
   "execution_count": 49,
   "metadata": {
    "colab": {
     "base_uri": "https://localhost:8080/"
    },
    "executionInfo": {
     "elapsed": 1823,
     "status": "ok",
     "timestamp": 1612462484609,
     "user": {
      "displayName": "D K",
      "photoUrl": "",
      "userId": "10356666646179425358"
     },
     "user_tz": -60
    },
    "id": "XI6jb0jVBIFO",
    "outputId": "a7e71f42-647e-42e5-8955-35e274eff8e4"
   },
   "outputs": [
    {
     "name": "stdout",
     "output_type": "stream",
     "text": [
      "Drive already mounted at /content/drive; to attempt to forcibly remount, call drive.mount(\"/content/drive\", force_remount=True).\n"
     ]
    }
   ],
   "source": [
    "drive.mount('/content/drive')"
   ]
  },
  {
   "cell_type": "code",
   "execution_count": null,
   "metadata": {
    "id": "HOJpOmPzBpSz"
   },
   "outputs": [],
   "source": [
    "4/1AY0e-g7FjUJhN9PY3UixYGQEDMKBVBSvG65v5Vjgr-OmBFf5R5l8gjUG6To"
   ]
  },
  {
   "cell_type": "code",
   "execution_count": 50,
   "metadata": {
    "executionInfo": {
     "elapsed": 1131,
     "status": "ok",
     "timestamp": 1612462489540,
     "user": {
      "displayName": "D K",
      "photoUrl": "",
      "userId": "10356666646179425358"
     },
     "user_tz": -60
    },
    "id": "0xKn0wO_BxUp"
   },
   "outputs": [],
   "source": [
    "os.chdir( '/content/drive/MyDrive/Pictures' )"
   ]
  },
  {
   "cell_type": "code",
   "execution_count": 51,
   "metadata": {
    "colab": {
     "base_uri": "https://localhost:8080/"
    },
    "executionInfo": {
     "elapsed": 2109,
     "status": "ok",
     "timestamp": 1612462490886,
     "user": {
      "displayName": "D K",
      "photoUrl": "",
      "userId": "10356666646179425358"
     },
     "user_tz": -60
    },
    "id": "n7VwmBMfB7SO",
    "outputId": "0b54b572-2584-48d1-8742-d83ab469531b"
   },
   "outputs": [
    {
     "data": {
      "text/plain": [
       "['Tina', 'Places365-Images', 'Dimitri', 'Ivica', 'Polad']"
      ]
     },
     "execution_count": 51,
     "metadata": {
      "tags": []
     },
     "output_type": "execute_result"
    }
   ],
   "source": [
    "os.listdir()"
   ]
  },
  {
   "cell_type": "code",
   "execution_count": null,
   "metadata": {
    "id": "v7r9ftgsDoUS"
   },
   "outputs": [],
   "source": [
    "#os.chdir( '/content/drive/MyDrive/Pictures/Polad' )\n",
    "#os.listdir()\n",
    "#folders_tina = [ 'upleash', 'kamera telefon' ] vo eden folder se\n",
    "folders_ivica = [ 'Daylight sky', 'Sky at night' ]"
   ]
  },
  {
   "cell_type": "code",
   "execution_count": 52,
   "metadata": {
    "colab": {
     "base_uri": "https://localhost:8080/"
    },
    "executionInfo": {
     "elapsed": 1005,
     "status": "ok",
     "timestamp": 1612462496041,
     "user": {
      "displayName": "D K",
      "photoUrl": "",
      "userId": "10356666646179425358"
     },
     "user_tz": -60
    },
    "id": "cm2KUXKhCCvH",
    "outputId": "a3cf466e-c866-4f78-af47-f7da4d609076"
   },
   "outputs": [
    {
     "name": "stdout",
     "output_type": "stream",
     "text": [
      "376\n",
      "1\n",
      "1241\n",
      "2\n",
      "96\n"
     ]
    }
   ],
   "source": [
    "os.chdir( '/content/drive/MyDrive/Pictures' )\n",
    "images = []\n",
    "\n",
    "for x in os.listdir() :\n",
    "    os.chdir( f'/content/drive/MyDrive/Pictures/{x}' )\n",
    "    print( len( os.listdir() ) )"
   ]
  },
  {
   "cell_type": "code",
   "execution_count": null,
   "metadata": {
    "colab": {
     "base_uri": "https://localhost:8080/"
    },
    "executionInfo": {
     "elapsed": 494,
     "status": "ok",
     "timestamp": 1612459657486,
     "user": {
      "displayName": "D K",
      "photoUrl": "",
      "userId": "10356666646179425358"
     },
     "user_tz": -60
    },
    "id": "vSAxm8kuCmdf",
    "outputId": "1c93bde4-765c-49f0-d0a9-6c8b8686c06b"
   },
   "outputs": [
    {
     "name": "stdout",
     "output_type": "stream",
     "text": [
      "292\n"
     ]
    }
   ],
   "source": [
    "os.chdir( '/content/drive/MyDrive/Pictures/Tina/upleash' )\n",
    "print( len( os.listdir() ) )"
   ]
  },
  {
   "cell_type": "code",
   "execution_count": null,
   "metadata": {
    "colab": {
     "base_uri": "https://localhost:8080/"
    },
    "executionInfo": {
     "elapsed": 523,
     "status": "ok",
     "timestamp": 1612459657690,
     "user": {
      "displayName": "D K",
      "photoUrl": "",
      "userId": "10356666646179425358"
     },
     "user_tz": -60
    },
    "id": "aTpQnq1XCny1",
    "outputId": "b7c18ea1-211e-4290-a8d4-bacce57fb49c"
   },
   "outputs": [
    {
     "name": "stdout",
     "output_type": "stream",
     "text": [
      "49\n"
     ]
    }
   ],
   "source": [
    "os.chdir( '/content/drive/MyDrive/Pictures/Tina/kamera telefon' )\n",
    "print( len( os.listdir() ) )"
   ]
  },
  {
   "cell_type": "code",
   "execution_count": null,
   "metadata": {
    "colab": {
     "base_uri": "https://localhost:8080/"
    },
    "executionInfo": {
     "elapsed": 517,
     "status": "ok",
     "timestamp": 1612459658570,
     "user": {
      "displayName": "D K",
      "photoUrl": "",
      "userId": "10356666646179425358"
     },
     "user_tz": -60
    },
    "id": "Ik3RYS0FFUYu",
    "outputId": "a4e1635c-1394-466c-d590-798aca43dd05"
   },
   "outputs": [
    {
     "name": "stdout",
     "output_type": "stream",
     "text": [
      "100\n"
     ]
    }
   ],
   "source": [
    "os.chdir( '/content/drive/MyDrive/Pictures/Ivica/Daylight sky' )\n",
    "print( len( os.listdir() ) )"
   ]
  },
  {
   "cell_type": "code",
   "execution_count": null,
   "metadata": {
    "colab": {
     "base_uri": "https://localhost:8080/"
    },
    "executionInfo": {
     "elapsed": 390,
     "status": "ok",
     "timestamp": 1612459658912,
     "user": {
      "displayName": "D K",
      "photoUrl": "",
      "userId": "10356666646179425358"
     },
     "user_tz": -60
    },
    "id": "bLraxPnsFaE3",
    "outputId": "c4344fb5-d7a2-4dee-d921-4f25e9d33404"
   },
   "outputs": [
    {
     "name": "stdout",
     "output_type": "stream",
     "text": [
      "64\n"
     ]
    }
   ],
   "source": [
    "os.chdir( '/content/drive/MyDrive/Pictures/Ivica/Sky at night' )\n",
    "print( len( os.listdir() ) )"
   ]
  },
  {
   "cell_type": "code",
   "execution_count": null,
   "metadata": {
    "colab": {
     "base_uri": "https://localhost:8080/"
    },
    "executionInfo": {
     "elapsed": 924,
     "status": "ok",
     "timestamp": 1612460214340,
     "user": {
      "displayName": "D K",
      "photoUrl": "",
      "userId": "10356666646179425358"
     },
     "user_tz": -60
    },
    "id": "Xqm3W6QqFcy_",
    "outputId": "0a2e9d3b-d282-4a44-c8ef-5f5f5cdcb5c0"
   },
   "outputs": [
    {
     "data": {
      "text/plain": [
       "6792"
      ]
     },
     "execution_count": 47,
     "metadata": {
      "tags": []
     },
     "output_type": "execute_result"
    }
   ],
   "source": [
    "374 + 292 + 49 + 4575 + 959 + 164 + 96"
   ]
  },
  {
   "cell_type": "code",
   "execution_count": null,
   "metadata": {
    "colab": {
     "base_uri": "https://localhost:8080/"
    },
    "executionInfo": {
     "elapsed": 487,
     "status": "ok",
     "timestamp": 1612459731692,
     "user": {
      "displayName": "D K",
      "photoUrl": "",
      "userId": "10356666646179425358"
     },
     "user_tz": -60
    },
    "id": "1MwKvCGIFlHM",
    "outputId": "ebf0e2ea-ab6e-4966-b2df-afd8e19aecf4"
   },
   "outputs": [
    {
     "data": {
      "text/plain": [
       "715"
      ]
     },
     "execution_count": 45,
     "metadata": {
      "tags": []
     },
     "output_type": "execute_result"
    }
   ],
   "source": [
    "374 + 49 + 292"
   ]
  },
  {
   "cell_type": "code",
   "execution_count": 108,
   "metadata": {
    "colab": {
     "base_uri": "https://localhost:8080/"
    },
    "executionInfo": {
     "elapsed": 565,
     "status": "ok",
     "timestamp": 1612463898144,
     "user": {
      "displayName": "D K",
      "photoUrl": "",
      "userId": "10356666646179425358"
     },
     "user_tz": -60
    },
    "id": "zE8vdsLXFuiz",
    "outputId": "86e45840-edbf-4856-91c4-442f9e8dacd3"
   },
   "outputs": [
    {
     "name": "stdout",
     "output_type": "stream",
     "text": [
      "1241\n"
     ]
    }
   ],
   "source": [
    "os.chdir( '/content/drive/MyDrive/Pictures/Dimitri' )\n",
    "print( len( os.listdir() ) )"
   ]
  },
  {
   "cell_type": "code",
   "execution_count": 151,
   "metadata": {
    "colab": {
     "base_uri": "https://localhost:8080/"
    },
    "executionInfo": {
     "elapsed": 3575,
     "status": "ok",
     "timestamp": 1612464979355,
     "user": {
      "displayName": "D K",
      "photoUrl": "",
      "userId": "10356666646179425358"
     },
     "user_tz": -60
    },
    "id": "uBlLSfMPVwby",
    "outputId": "17fb4bdb-e398-436b-fc48-20f452349c75"
   },
   "outputs": [
    {
     "name": "stdout",
     "output_type": "stream",
     "text": [
      "/content/drive/MyDrive/Pictures/Dimitri\n"
     ]
    }
   ],
   "source": [
    "os.chdir( '/content/drive/MyDrive/Pictures/Dimitri' )\n",
    "print( os.getcwd() ) \n",
    "COUNT = 1\n",
    "  \n",
    "def increment(): \n",
    "    global COUNT \n",
    "    COUNT = COUNT + 1\n",
    "\n",
    "for f in os.listdir(): \n",
    "    f_name, f_ext = os.path.splitext( f ) \n",
    "    f_name = str( COUNT ) \n",
    "    increment() \n",
    "  \n",
    "    new_name = 'd{}{}'.format( f_name, f_ext.lower() ) \n",
    "    os.rename( f, new_name )"
   ]
  },
  {
   "cell_type": "code",
   "execution_count": 152,
   "metadata": {
    "colab": {
     "base_uri": "https://localhost:8080/"
    },
    "executionInfo": {
     "elapsed": 534,
     "status": "ok",
     "timestamp": 1612465008998,
     "user": {
      "displayName": "D K",
      "photoUrl": "",
      "userId": "10356666646179425358"
     },
     "user_tz": -60
    },
    "id": "0NvessqMVplo",
    "outputId": "08b457f7-2b09-4a82-e19f-17149eb3070f"
   },
   "outputs": [
    {
     "data": {
      "text/plain": [
       "1241"
      ]
     },
     "execution_count": 152,
     "metadata": {
      "tags": []
     },
     "output_type": "execute_result"
    }
   ],
   "source": [
    "len( os.listdir() )"
   ]
  },
  {
   "cell_type": "code",
   "execution_count": 154,
   "metadata": {
    "executionInfo": {
     "elapsed": 522,
     "status": "ok",
     "timestamp": 1612465017247,
     "user": {
      "displayName": "D K",
      "photoUrl": "",
      "userId": "10356666646179425358"
     },
     "user_tz": -60
    },
    "id": "yOB9AaWhQhHp"
   },
   "outputs": [],
   "source": [
    "file_full = os.listdir()"
   ]
  },
  {
   "cell_type": "code",
   "execution_count": 147,
   "metadata": {
    "colab": {
     "base_uri": "https://localhost:8080/",
     "height": 378
    },
    "executionInfo": {
     "elapsed": 3209,
     "status": "error",
     "timestamp": 1612464850841,
     "user": {
      "displayName": "D K",
      "photoUrl": "",
      "userId": "10356666646179425358"
     },
     "user_tz": -60
    },
    "id": "5JhUk4ijTU4r",
    "outputId": "fa65102d-78a2-4a69-98bb-af7d6c48b226"
   },
   "outputs": [
    {
     "name": "stdout",
     "output_type": "stream",
     "text": [
      "304.png\n"
     ]
    },
    {
     "ename": "FileNotFoundError",
     "evalue": "ignored",
     "output_type": "error",
     "traceback": [
      "\u001b[0;31m---------------------------------------------------------------------------\u001b[0m",
      "\u001b[0;31mFileNotFoundError\u001b[0m                         Traceback (most recent call last)",
      "\u001b[0;32m<ipython-input-147-58143dac87d5>\u001b[0m in \u001b[0;36m<module>\u001b[0;34m()\u001b[0m\n\u001b[1;32m      3\u001b[0m     \u001b[0;32mif\u001b[0m \u001b[0masd\u001b[0m\u001b[0;34m[\u001b[0m \u001b[0;36m1\u001b[0m \u001b[0;34m]\u001b[0m \u001b[0;34m!=\u001b[0m \u001b[0;34m\"jpg\"\u001b[0m \u001b[0;34m:\u001b[0m\u001b[0;34m\u001b[0m\u001b[0;34m\u001b[0m\u001b[0m\n\u001b[1;32m      4\u001b[0m         \u001b[0mprint\u001b[0m\u001b[0;34m(\u001b[0m \u001b[0mx\u001b[0m \u001b[0;34m)\u001b[0m\u001b[0;34m\u001b[0m\u001b[0;34m\u001b[0m\u001b[0m\n\u001b[0;32m----> 5\u001b[0;31m         \u001b[0mimg\u001b[0m \u001b[0;34m=\u001b[0m \u001b[0mImage\u001b[0m\u001b[0;34m.\u001b[0m\u001b[0mopen\u001b[0m\u001b[0;34m(\u001b[0m\u001b[0mx\u001b[0m\u001b[0;34m)\u001b[0m\u001b[0;34m\u001b[0m\u001b[0;34m\u001b[0m\u001b[0m\n\u001b[0m\u001b[1;32m      6\u001b[0m         \u001b[0mtarget_name\u001b[0m \u001b[0;34m=\u001b[0m \u001b[0masd\u001b[0m\u001b[0;34m[\u001b[0m \u001b[0;36m0\u001b[0m \u001b[0;34m]\u001b[0m \u001b[0;34m+\u001b[0m \u001b[0;34m\".jpg\"\u001b[0m\u001b[0;34m\u001b[0m\u001b[0;34m\u001b[0m\u001b[0m\n\u001b[1;32m      7\u001b[0m         \u001b[0mrgb_image\u001b[0m \u001b[0;34m=\u001b[0m \u001b[0mimg\u001b[0m\u001b[0;34m.\u001b[0m\u001b[0mconvert\u001b[0m\u001b[0;34m(\u001b[0m\u001b[0;34m'RGB'\u001b[0m\u001b[0;34m)\u001b[0m\u001b[0;34m\u001b[0m\u001b[0;34m\u001b[0m\u001b[0m\n",
      "\u001b[0;32m/usr/local/lib/python3.6/dist-packages/PIL/Image.py\u001b[0m in \u001b[0;36mopen\u001b[0;34m(fp, mode)\u001b[0m\n\u001b[1;32m   2807\u001b[0m \u001b[0;34m\u001b[0m\u001b[0m\n\u001b[1;32m   2808\u001b[0m     \u001b[0;32mif\u001b[0m \u001b[0mfilename\u001b[0m\u001b[0;34m:\u001b[0m\u001b[0;34m\u001b[0m\u001b[0;34m\u001b[0m\u001b[0m\n\u001b[0;32m-> 2809\u001b[0;31m         \u001b[0mfp\u001b[0m \u001b[0;34m=\u001b[0m \u001b[0mbuiltins\u001b[0m\u001b[0;34m.\u001b[0m\u001b[0mopen\u001b[0m\u001b[0;34m(\u001b[0m\u001b[0mfilename\u001b[0m\u001b[0;34m,\u001b[0m \u001b[0;34m\"rb\"\u001b[0m\u001b[0;34m)\u001b[0m\u001b[0;34m\u001b[0m\u001b[0;34m\u001b[0m\u001b[0m\n\u001b[0m\u001b[1;32m   2810\u001b[0m         \u001b[0mexclusive_fp\u001b[0m \u001b[0;34m=\u001b[0m \u001b[0;32mTrue\u001b[0m\u001b[0;34m\u001b[0m\u001b[0;34m\u001b[0m\u001b[0m\n\u001b[1;32m   2811\u001b[0m \u001b[0;34m\u001b[0m\u001b[0m\n",
      "\u001b[0;31mFileNotFoundError\u001b[0m: [Errno 2] No such file or directory: '304.png'"
     ]
    }
   ],
   "source": [
    "for x in file_full :\n",
    "    asd = x.split( \".\" )\n",
    "    if asd[ 1 ] != \"jpg\" :\n",
    "        print( x )\n",
    "        img = Image.open(x)\n",
    "        target_name = asd[ 0 ] + \".jpg\"\n",
    "        rgb_image = img.convert('RGB')\n",
    "        rgb_image.save(target_name)\n",
    "        print(\"Converted image saved as \" + target_name)"
   ]
  },
  {
   "cell_type": "code",
   "execution_count": 128,
   "metadata": {
    "colab": {
     "base_uri": "https://localhost:8080/"
    },
    "executionInfo": {
     "elapsed": 520,
     "status": "ok",
     "timestamp": 1612464529737,
     "user": {
      "displayName": "D K",
      "photoUrl": "",
      "userId": "10356666646179425358"
     },
     "user_tz": -60
    },
    "id": "9SUNfKY-XWvC",
    "outputId": "d7a2fc04-9f7e-4cf4-c85c-33c32e0f7274"
   },
   "outputs": [
    {
     "name": "stdout",
     "output_type": "stream",
     "text": [
      "Removed :304.png\n",
      "Removed :338.jpeg\n",
      "Removed :1118.jpeg\n",
      "Removed :1119.jpeg\n",
      "Removed :1120.jpeg\n"
     ]
    }
   ],
   "source": [
    "for x in file_full :\n",
    "    asd = x.split( \".\" )\n",
    "    if asd[ 1 ] != \"jpg\" :\n",
    "        print( \"Removed :\" + x )\n",
    "        os.remove( x )"
   ]
  },
  {
   "cell_type": "code",
   "execution_count": 149,
   "metadata": {
    "executionInfo": {
     "elapsed": 542,
     "status": "ok",
     "timestamp": 1612464865706,
     "user": {
      "displayName": "D K",
      "photoUrl": "",
      "userId": "10356666646179425358"
     },
     "user_tz": -60
    },
    "id": "9m4PKhQkVTCA"
   },
   "outputs": [],
   "source": [
    "et = []\n",
    "for x in file_full :\n",
    "    asd = x.split( \".\" )\n",
    "    et.append( asd[ 1 ] )"
   ]
  },
  {
   "cell_type": "code",
   "execution_count": 153,
   "metadata": {
    "colab": {
     "base_uri": "https://localhost:8080/"
    },
    "executionInfo": {
     "elapsed": 589,
     "status": "ok",
     "timestamp": 1612465014094,
     "user": {
      "displayName": "D K",
      "photoUrl": "",
      "userId": "10356666646179425358"
     },
     "user_tz": -60
    },
    "id": "2REk2Qv7YVq1",
    "outputId": "fab73684-1185-4484-f942-f5c5ad9ca734"
   },
   "outputs": [
    {
     "data": {
      "text/plain": [
       "{'jpg'}"
      ]
     },
     "execution_count": 153,
     "metadata": {
      "tags": []
     },
     "output_type": "execute_result"
    }
   ],
   "source": [
    "set( et )\n"
   ]
  },
  {
   "cell_type": "code",
   "execution_count": null,
   "metadata": {
    "id": "BTkymT17Z598"
   },
   "outputs": [],
   "source": []
  }
 ],
 "metadata": {
  "colab": {
   "authorship_tag": "ABX9TyOLQ/4btrajjGyQuMGDJI4m",
   "collapsed_sections": [],
   "name": "ImageInfo-FileManipulation.ipynb",
   "provenance": []
  },
  "kernelspec": {
   "display_name": "Python 3",
   "language": "python",
   "name": "python3"
  },
  "language_info": {
   "codemirror_mode": {
    "name": "ipython",
    "version": 3
   },
   "file_extension": ".py",
   "mimetype": "text/x-python",
   "name": "python",
   "nbconvert_exporter": "python",
   "pygments_lexer": "ipython3",
   "version": "3.8.5"
  }
 },
 "nbformat": 4,
 "nbformat_minor": 1
}
