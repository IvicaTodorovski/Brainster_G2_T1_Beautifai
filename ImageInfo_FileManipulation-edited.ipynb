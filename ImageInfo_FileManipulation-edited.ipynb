{
  "nbformat": 4,
  "nbformat_minor": 0,
  "metadata": {
    "colab": {
      "name": "ImageInfo-FileManipulation.ipynb",
      "provenance": [],
      "collapsed_sections": []
    },
    "kernelspec": {
      "display_name": "Python 3",
      "language": "python",
      "name": "python3"
    },
    "language_info": {
      "codemirror_mode": {
        "name": "ipython",
        "version": 3
      },
      "file_extension": ".py",
      "mimetype": "text/x-python",
      "name": "python",
      "nbconvert_exporter": "python",
      "pygments_lexer": "ipython3",
      "version": "3.8.5"
    }
  },
  "cells": [
    {
      "cell_type": "code",
      "metadata": {
        "id": "cYo2PNZaB8ZD"
      },
      "source": [
        "import os\n",
        "from google.colab import drive\n",
        "from PIL import Image"
      ],
      "execution_count": null,
      "outputs": []
    },
    {
      "cell_type": "code",
      "metadata": {
        "colab": {
          "base_uri": "https://localhost:8080/"
        },
        "id": "XI6jb0jVBIFO",
        "outputId": "13ec0720-8900-487b-e225-a7498d0a16a1"
      },
      "source": [
        "drive.mount('/content/drive')"
      ],
      "execution_count": null,
      "outputs": [
        {
          "output_type": "stream",
          "text": [
            "Mounted at /content/drive\n"
          ],
          "name": "stdout"
        }
      ]
    },
    {
      "cell_type": "code",
      "metadata": {
        "id": "HOJpOmPzBpSz"
      },
      "source": [
        "# 4/1AY0e-g7FjUJhN9PY3UixYGQEDMKBVBSvG65v5Vjgr-OmBFf5R5l8gjUG6To"
      ],
      "execution_count": null,
      "outputs": []
    },
    {
      "cell_type": "code",
      "metadata": {
        "id": "0xKn0wO_BxUp"
      },
      "source": [
        "os.chdir( '/content/drive/MyDrive/Pictures' )"
      ],
      "execution_count": 42,
      "outputs": []
    },
    {
      "cell_type": "code",
      "metadata": {
        "colab": {
          "base_uri": "https://localhost:8080/"
        },
        "id": "n7VwmBMfB7SO",
        "outputId": "f269e19d-b377-4408-f1b4-4a734a0804c8"
      },
      "source": [
        "os.listdir()"
      ],
      "execution_count": 43,
      "outputs": [
        {
          "output_type": "execute_result",
          "data": {
            "text/plain": [
              "['Tina', 'Places365-Images', 'Dimitri', 'Ivica', 'Polad', 'Jasmina']"
            ]
          },
          "metadata": {
            "tags": []
          },
          "execution_count": 43
        }
      ]
    },
    {
      "cell_type": "code",
      "metadata": {
        "id": "v7r9ftgsDoUS"
      },
      "source": [
        "#os.chdir( '/content/drive/MyDrive/Pictures/Polad' )\n",
        "#os.listdir()\n",
        "#folders_tina = [ 'upleash', 'kamera telefon' ] vo eden folder se\n",
        "folders_ivica = [ 'Daylight sky', 'Sky at night' ]"
      ],
      "execution_count": 44,
      "outputs": []
    },
    {
      "cell_type": "code",
      "metadata": {
        "colab": {
          "base_uri": "https://localhost:8080/"
        },
        "id": "cm2KUXKhCCvH",
        "outputId": "45aa81fb-5680-40f7-a1d3-6aaefb279990"
      },
      "source": [
        "os.chdir( '/content/drive/MyDrive/Pictures' )\n",
        "images = []\n",
        "\n",
        "for x in os.listdir() :\n",
        "    os.chdir( f'/content/drive/MyDrive/Pictures/{x}' )\n",
        "    print( len( os.listdir() ) )"
      ],
      "execution_count": 45,
      "outputs": [
        {
          "output_type": "stream",
          "text": [
            "163\n",
            "1\n",
            "1241\n",
            "2\n",
            "96\n",
            "200\n"
          ],
          "name": "stdout"
        }
      ]
    },
    {
      "cell_type": "code",
      "metadata": {
        "colab": {
          "base_uri": "https://localhost:8080/"
        },
        "id": "vSAxm8kuCmdf",
        "outputId": "1c93bde4-765c-49f0-d0a9-6c8b8686c06b"
      },
      "source": [
        "# os.chdir( '/content/drive/MyDrive/Pictures/Tina/upleash' )\n",
        "# print( len( os.listdir() ) )"
      ],
      "execution_count": null,
      "outputs": [
        {
          "output_type": "stream",
          "text": [
            "292\n"
          ],
          "name": "stdout"
        }
      ]
    },
    {
      "cell_type": "code",
      "metadata": {
        "colab": {
          "base_uri": "https://localhost:8080/"
        },
        "id": "aTpQnq1XCny1",
        "outputId": "b7c18ea1-211e-4290-a8d4-bacce57fb49c"
      },
      "source": [
        "# os.chdir( '/content/drive/MyDrive/Pictures/Tina/kamera telefon' )\n",
        "# print( len( os.listdir() ) )"
      ],
      "execution_count": null,
      "outputs": [
        {
          "output_type": "stream",
          "text": [
            "49\n"
          ],
          "name": "stdout"
        }
      ]
    },
    {
      "cell_type": "code",
      "metadata": {
        "colab": {
          "base_uri": "https://localhost:8080/"
        },
        "id": "Ik3RYS0FFUYu",
        "outputId": "962f69f3-e30b-47f8-a7f9-3510cd62d5b2"
      },
      "source": [
        "os.chdir( '/content/drive/MyDrive/Pictures/Ivica/Daylight sky' )\n",
        "print( len( os.listdir() ) )"
      ],
      "execution_count": 69,
      "outputs": [
        {
          "output_type": "stream",
          "text": [
            "100\n"
          ],
          "name": "stdout"
        }
      ]
    },
    {
      "cell_type": "code",
      "metadata": {
        "colab": {
          "base_uri": "https://localhost:8080/"
        },
        "id": "0DwjT3wHwJ0x",
        "outputId": "3dbb2e2e-2f13-47d7-cef4-58e911388b90"
      },
      "source": [
        "# os.chdir( '/content/drive/MyDrive/Pictures/Ivica/Daylight sky' )\r\n",
        "# print( os.getcwd() ) \r\n",
        "# COUNT = 1\r\n",
        "  \r\n",
        "# def increment(): \r\n",
        "#     global COUNT \r\n",
        "#     COUNT = COUNT + 1\r\n",
        "\r\n",
        "# for f in os.listdir(): \r\n",
        "#     f_name, f_ext = os.path.splitext( f ) \r\n",
        "#     f_name = str( COUNT ) \r\n",
        "#     increment() \r\n",
        "  \r\n",
        "#     new_name = 'iday{}{}'.format( f_name, f_ext.lower() ) \r\n",
        "#     os.rename( f, new_name )"
      ],
      "execution_count": 55,
      "outputs": [
        {
          "output_type": "stream",
          "text": [
            "/content/drive/MyDrive/Pictures/Ivica/Daylight sky\n"
          ],
          "name": "stdout"
        }
      ]
    },
    {
      "cell_type": "code",
      "metadata": {
        "colab": {
          "base_uri": "https://localhost:8080/"
        },
        "id": "bLraxPnsFaE3",
        "outputId": "376b66d8-0c7e-4dde-c2da-251dc5df4744"
      },
      "source": [
        "os.chdir( '/content/drive/MyDrive/Pictures/Ivica/Sky at night' )\n",
        "print( len( os.listdir() ) )"
      ],
      "execution_count": 70,
      "outputs": [
        {
          "output_type": "stream",
          "text": [
            "64\n"
          ],
          "name": "stdout"
        }
      ]
    },
    {
      "cell_type": "code",
      "metadata": {
        "colab": {
          "base_uri": "https://localhost:8080/"
        },
        "id": "bx7dTZN8wg0V",
        "outputId": "b45a2668-8410-4fdd-96f1-34de49f84870"
      },
      "source": [
        "# os.chdir( '/content/drive/MyDrive/Pictures/Ivica/Sky at night'  )\r\n",
        "# print( os.getcwd() ) \r\n",
        "# COUNT = 1\r\n",
        "  \r\n",
        "# def increment(): \r\n",
        "#     global COUNT \r\n",
        "#     COUNT = COUNT + 1\r\n",
        "\r\n",
        "# for f in os.listdir(): \r\n",
        "#     f_name, f_ext = os.path.splitext( f ) \r\n",
        "#     f_name = str( COUNT ) \r\n",
        "#     increment() \r\n",
        "  \r\n",
        "#     new_name = 'inig{}{}'.format( f_name, f_ext.lower() ) \r\n",
        "#     os.rename( f, new_name )"
      ],
      "execution_count": 71,
      "outputs": [
        {
          "output_type": "stream",
          "text": [
            "/content/drive/MyDrive/Pictures/Ivica/Sky at night\n"
          ],
          "name": "stdout"
        }
      ]
    },
    {
      "cell_type": "code",
      "metadata": {
        "colab": {
          "base_uri": "https://localhost:8080/"
        },
        "id": "Xqm3W6QqFcy_",
        "outputId": "ec58d0f2-1c23-474f-d0bf-3f8d3b12d63c"
      },
      "source": [
        "374 + 292 + 49 + 5475 + 959 + 164 + 96"
      ],
      "execution_count": 24,
      "outputs": [
        {
          "output_type": "execute_result",
          "data": {
            "text/plain": [
              "7409"
            ]
          },
          "metadata": {
            "tags": []
          },
          "execution_count": 24
        }
      ]
    },
    {
      "cell_type": "code",
      "metadata": {
        "colab": {
          "base_uri": "https://localhost:8080/"
        },
        "id": "1MwKvCGIFlHM",
        "outputId": "ebf0e2ea-ab6e-4966-b2df-afd8e19aecf4"
      },
      "source": [
        "374 + 49 + 292"
      ],
      "execution_count": null,
      "outputs": [
        {
          "output_type": "execute_result",
          "data": {
            "text/plain": [
              "715"
            ]
          },
          "metadata": {
            "tags": []
          },
          "execution_count": 45
        }
      ]
    },
    {
      "cell_type": "code",
      "metadata": {
        "colab": {
          "base_uri": "https://localhost:8080/"
        },
        "id": "zE8vdsLXFuiz",
        "outputId": "e7f2760d-eb12-47f9-b8e1-f875ba02e37a"
      },
      "source": [
        "os.chdir( '/content/drive/MyDrive/Pictures/Dimitri' )\n",
        "print( len( os.listdir() ) )"
      ],
      "execution_count": 53,
      "outputs": [
        {
          "output_type": "stream",
          "text": [
            "1241\n"
          ],
          "name": "stdout"
        }
      ]
    },
    {
      "cell_type": "code",
      "metadata": {
        "colab": {
          "base_uri": "https://localhost:8080/"
        },
        "id": "M-EeBsF0llcD",
        "outputId": "5fd10ce8-45d0-412f-9163-3910573fd76e"
      },
      "source": [
        "# os.chdir( '/content/drive/MyDrive/Pictures/Jasmina' )\r\n",
        "# print( len( os.listdir() ) )"
      ],
      "execution_count": 46,
      "outputs": [
        {
          "output_type": "stream",
          "text": [
            "222\n"
          ],
          "name": "stdout"
        }
      ]
    },
    {
      "cell_type": "code",
      "metadata": {
        "colab": {
          "base_uri": "https://localhost:8080/"
        },
        "id": "-9As7oFOp_fi",
        "outputId": "25c1fbd4-2308-428a-945c-3e3c273be52e"
      },
      "source": [
        "# os.chdir( '/content/drive/MyDrive/Pictures/Polad' )\r\n",
        "# print( len( os.listdir() ) )"
      ],
      "execution_count": 27,
      "outputs": [
        {
          "output_type": "stream",
          "text": [
            "96\n"
          ],
          "name": "stdout"
        }
      ]
    },
    {
      "cell_type": "code",
      "metadata": {
        "id": "egx0wY8cqPr1"
      },
      "source": [
        "# os.chdir( '/content/drive/MyDrive/Pictures/Dimitri' )\r\n",
        "# print( os.getcwd() ) \r\n",
        "# COUNT = 1\r\n",
        "  \r\n",
        "# def increment(): \r\n",
        "#     global COUNT \r\n",
        "#     COUNT = COUNT + 1\r\n",
        "\r\n",
        "# for f in os.listdir(): \r\n",
        "#     f_name, f_ext = os.path.splitext( f ) \r\n",
        "#     f_name = str( COUNT ) \r\n",
        "#     increment() \r\n",
        "  \r\n",
        "#     new_name = 'd{}{}'.format( f_name, f_ext.lower() ) \r\n",
        "#     os.rename( f, new_name )"
      ],
      "execution_count": null,
      "outputs": []
    },
    {
      "cell_type": "code",
      "metadata": {
        "colab": {
          "base_uri": "https://localhost:8080/"
        },
        "id": "uBlLSfMPVwby",
        "outputId": "39dcf15e-0bee-49bd-d50f-619757ae53a2"
      },
      "source": [
        "# os.chdir( '/content/drive/MyDrive/Pictures/Jasmina' )\n",
        "# print( os.getcwd() ) \n",
        "# COUNT = 1\n",
        "  \n",
        "# def increment(): \n",
        "#     global COUNT \n",
        "#     COUNT = COUNT + 1\n",
        "\n",
        "# for f in os.listdir(): \n",
        "#     f_name, f_ext = os.path.splitext( f ) \n",
        "#     f_name = str( COUNT ) \n",
        "#     increment() \n",
        "  \n",
        "#     new_name = 'j{}{}'.format( f_name, f_ext.lower() ) \n",
        "#     os.rename( f, new_name )"
      ],
      "execution_count": 47,
      "outputs": [
        {
          "output_type": "stream",
          "text": [
            "/content/drive/MyDrive/Pictures/Jasmina\n"
          ],
          "name": "stdout"
        }
      ]
    },
    {
      "cell_type": "code",
      "metadata": {
        "colab": {
          "base_uri": "https://localhost:8080/"
        },
        "id": "B3Q_i_dtqIU5",
        "outputId": "9615fea4-b673-41bf-ce7c-f7fc15afb07d"
      },
      "source": [
        "# os.chdir( '/content/drive/MyDrive/Pictures/Polad' )\r\n",
        "# print( os.getcwd() ) \r\n",
        "# COUNT = 1\r\n",
        "  \r\n",
        "# def increment(): \r\n",
        "#     global COUNT \r\n",
        "#     COUNT = COUNT + 1\r\n",
        "\r\n",
        "# for f in os.listdir(): \r\n",
        "#     f_name, f_ext = os.path.splitext( f ) \r\n",
        "#     f_name = str( COUNT ) \r\n",
        "#     increment() \r\n",
        "  \r\n",
        "#     new_name = 'p{}{}'.format( f_name, f_ext.lower() ) \r\n",
        "#     os.rename( f, new_name )"
      ],
      "execution_count": 28,
      "outputs": [
        {
          "output_type": "stream",
          "text": [
            "/content/drive/MyDrive/Pictures/Polad\n"
          ],
          "name": "stdout"
        }
      ]
    },
    {
      "cell_type": "code",
      "metadata": {
        "colab": {
          "base_uri": "https://localhost:8080/"
        },
        "id": "5mLoaxpDrKRb",
        "outputId": "b8635837-9849-4042-8adf-2c54d7c96ef8"
      },
      "source": [
        "os.chdir( '/content/drive/MyDrive/Pictures/Tina' )\r\n",
        "print( len( os.listdir() ) )"
      ],
      "execution_count": 41,
      "outputs": [
        {
          "output_type": "stream",
          "text": [
            "163\n"
          ],
          "name": "stdout"
        }
      ]
    },
    {
      "cell_type": "code",
      "metadata": {
        "colab": {
          "base_uri": "https://localhost:8080/"
        },
        "id": "HZtF7jLuqpLq",
        "outputId": "0da34a7a-d0d7-41b7-ee70-41bb18e4243a"
      },
      "source": [
        "os.chdir( '/content/drive/MyDrive/Pictures/Tina' )\r\n",
        "print( os.getcwd() ) \r\n",
        "COUNT = 1\r\n",
        "  \r\n",
        "def increment(): \r\n",
        "    global COUNT \r\n",
        "    COUNT = COUNT + 1\r\n",
        "\r\n",
        "for f in os.listdir(): \r\n",
        "    f_name, f_ext = os.path.splitext( f ) \r\n",
        "    f_name = str( COUNT ) \r\n",
        "    increment() \r\n",
        "  \r\n",
        "    new_name = 't{}{}'.format( f_name, f_ext.lower() ) \r\n",
        "    os.rename( f, new_name )"
      ],
      "execution_count": 39,
      "outputs": [
        {
          "output_type": "stream",
          "text": [
            "/content/drive/MyDrive/Pictures/Tina\n"
          ],
          "name": "stdout"
        }
      ]
    },
    {
      "cell_type": "code",
      "metadata": {
        "colab": {
          "base_uri": "https://localhost:8080/"
        },
        "id": "0NvessqMVplo",
        "outputId": "2f5c0083-f242-41b6-d05a-0b6b68306797"
      },
      "source": [
        "len( os.listdir() )"
      ],
      "execution_count": 72,
      "outputs": [
        {
          "output_type": "execute_result",
          "data": {
            "text/plain": [
              "64"
            ]
          },
          "metadata": {
            "tags": []
          },
          "execution_count": 72
        }
      ]
    },
    {
      "cell_type": "code",
      "metadata": {
        "id": "yOB9AaWhQhHp"
      },
      "source": [
        "file_full = os.listdir()"
      ],
      "execution_count": 73,
      "outputs": []
    },
    {
      "cell_type": "code",
      "metadata": {
        "id": "5JhUk4ijTU4r"
      },
      "source": [
        "for x in file_full :\n",
        "    asd = x.split( \".\" )\n",
        "    if asd[ 1 ] != \"jpg\" :\n",
        "        print( x )\n",
        "        img = Image.open(x)\n",
        "        target_name = asd[ 0 ] + \".jpg\"\n",
        "        rgb_image = img.convert('RGB')\n",
        "        rgb_image.save(target_name)\n",
        "        print(\"Converted image saved as \" + target_name)"
      ],
      "execution_count": 74,
      "outputs": []
    },
    {
      "cell_type": "code",
      "metadata": {
        "id": "9SUNfKY-XWvC"
      },
      "source": [
        "for x in file_full :\n",
        "    asd = x.split( \".\" )\n",
        "    if asd[ 1 ] != \"jpg\" :\n",
        "        print( \"Removed :\" + x )\n",
        "        os.remove( x )"
      ],
      "execution_count": 75,
      "outputs": []
    },
    {
      "cell_type": "code",
      "metadata": {
        "id": "9m4PKhQkVTCA"
      },
      "source": [
        "et = []\n",
        "for x in file_full :\n",
        "    asd = x.split( \".\" )\n",
        "    et.append( asd[ 1 ] )"
      ],
      "execution_count": 76,
      "outputs": []
    },
    {
      "cell_type": "code",
      "metadata": {
        "colab": {
          "base_uri": "https://localhost:8080/"
        },
        "id": "2REk2Qv7YVq1",
        "outputId": "7f4d0eda-a657-4e9d-b432-01526abb2d08"
      },
      "source": [
        "set( et )\n"
      ],
      "execution_count": 77,
      "outputs": [
        {
          "output_type": "execute_result",
          "data": {
            "text/plain": [
              "{'jpg'}"
            ]
          },
          "metadata": {
            "tags": []
          },
          "execution_count": 77
        }
      ]
    },
    {
      "cell_type": "code",
      "metadata": {
        "id": "BTkymT17Z598"
      },
      "source": [
        ""
      ],
      "execution_count": null,
      "outputs": []
    }
  ]
}