{
 "cells": [
  {
   "cell_type": "markdown",
   "metadata": {},
   "source": [
    "# Script for Data Labelling"
   ]
  },
  {
   "cell_type": "code",
   "execution_count": null,
   "metadata": {},
   "outputs": [],
   "source": [
    "import glob\n",
    "from matplotlib import pyplot as plt\n",
    "import cv2\n",
    "import os\n",
    "from IPython import display\n",
    "from tqdm import tqdm\n",
    "\n",
    "def iterate_data(start_inx, dataset_path, save_path):\n",
    "    files = glob.glob(dataset_path+\"/*\")\n",
    "    \n",
    "    for inx, file in enumerate(files):\n",
    "        try:    \n",
    "            if inx<start_inx:\n",
    "                continue\n",
    "                \n",
    "            print(inx)\n",
    "            image = cv2.imread(file)\n",
    "            image = cv2.cvtColor(image, cv2.COLOR_BGR2RGB)\n",
    "            plt.figure(figsize=(7,7 ))\n",
    "            plt.imshow(image)\n",
    "            plt.axis('off')\n",
    "            \n",
    "            plt.show()\n",
    "            chosen_class = input()\n",
    "\n",
    "            save_path_class = os.path.join(save_path, chosen_class)\n",
    "            if not os.path.isdir(save_path_class):\n",
    "                os.makedirs(save_path_class)\n",
    "\n",
    "            image = cv2.cvtColor(image, cv2.COLOR_RGB2BGR)\n",
    "\n",
    "            save_file_path = os.path.join(save_path_class, os.path.basename(file))\n",
    "            cv2.imwrite(save_file_path, image)\n",
    "            plt.clf()\n",
    "            display.clear_output(wait=True)\n",
    "        except Exception as ex:\n",
    "            pass"
   ]
  },
  {
   "cell_type": "markdown",
   "metadata": {},
   "source": [
    "# Configure"
   ]
  },
  {
   "cell_type": "code",
   "execution_count": null,
   "metadata": {},
   "outputs": [],
   "source": [
    "dataset_path = 'E:/Datasets/...' # directorium with images (unlabelled data)\n",
    "save_path = 'E:/SaveLabels/'  # Folder for saving labels \n",
    "start_inx = 0 # the start index"
   ]
  },
  {
   "cell_type": "markdown",
   "metadata": {},
   "source": [
    "# Run"
   ]
  },
  {
   "cell_type": "code",
   "execution_count": null,
   "metadata": {},
   "outputs": [],
   "source": [
    "iterate_data(start_inx, dataset_path, save_path)"
   ]
  }
 ],
 "metadata": {
  "kernelspec": {
   "display_name": "Python 3",
   "language": "python",
   "name": "python3"
  },
  "language_info": {
   "codemirror_mode": {
    "name": "ipython",
    "version": 3
   },
   "file_extension": ".py",
   "mimetype": "text/x-python",
   "name": "python",
   "nbconvert_exporter": "python",
   "pygments_lexer": "ipython3",
   "version": "3.6.10"
  }
 },
 "nbformat": 4,
 "nbformat_minor": 4
}
