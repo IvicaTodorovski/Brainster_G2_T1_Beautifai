{
  "nbformat": 4,
  "nbformat_minor": 0,
  "metadata": {
    "colab": {
      "name": "ImageInfo-FileManipulation.ipynb",
      "provenance": [],
      "collapsed_sections": []
    },
    "kernelspec": {
      "display_name": "Python 3",
      "language": "python",
      "name": "python3"
    },
    "language_info": {
      "codemirror_mode": {
        "name": "ipython",
        "version": 3
      },
      "file_extension": ".py",
      "mimetype": "text/x-python",
      "name": "python",
      "nbconvert_exporter": "python",
      "pygments_lexer": "ipython3",
      "version": "3.8.5"
    }
  },
  "cells": [
    {
      "cell_type": "code",
      "metadata": {
        "id": "cYo2PNZaB8ZD"
      },
      "source": [
        "import os\n",
        "from google.colab import drive\n",
        "from PIL import Image"
      ],
      "execution_count": 1,
      "outputs": []
    },
    {
      "cell_type": "code",
      "metadata": {
        "colab": {
          "base_uri": "https://localhost:8080/"
        },
        "id": "XI6jb0jVBIFO",
        "outputId": "13ec0720-8900-487b-e225-a7498d0a16a1"
      },
      "source": [
        "drive.mount('/content/drive')"
      ],
      "execution_count": 2,
      "outputs": [
        {
          "output_type": "stream",
          "text": [
            "Mounted at /content/drive\n"
          ],
          "name": "stdout"
        }
      ]
    },
    {
      "cell_type": "code",
      "metadata": {
        "id": "HOJpOmPzBpSz"
      },
      "source": [
        "# 4/1AY0e-g7FjUJhN9PY3UixYGQEDMKBVBSvG65v5Vjgr-OmBFf5R5l8gjUG6To"
      ],
      "execution_count": null,
      "outputs": []
    },
    {
      "cell_type": "code",
      "metadata": {
        "id": "0xKn0wO_BxUp"
      },
      "source": [
        "os.chdir( '/content/drive/MyDrive/Pictures' )"
      ],
      "execution_count": 3,
      "outputs": []
    },
    {
      "cell_type": "code",
      "metadata": {
        "colab": {
          "base_uri": "https://localhost:8080/"
        },
        "id": "n7VwmBMfB7SO",
        "outputId": "fab8810a-d2de-4fb9-f7ed-0d7876e331db"
      },
      "source": [
        "os.listdir()"
      ],
      "execution_count": 4,
      "outputs": [
        {
          "output_type": "execute_result",
          "data": {
            "text/plain": [
              "['Tina', 'Places365-Images', 'Dimitri', 'Ivica', 'Polad', 'Jasmina']"
            ]
          },
          "metadata": {
            "tags": []
          },
          "execution_count": 4
        }
      ]
    },
    {
      "cell_type": "code",
      "metadata": {
        "id": "v7r9ftgsDoUS"
      },
      "source": [
        "#os.chdir( '/content/drive/MyDrive/Pictures/Polad' )\n",
        "#os.listdir()\n",
        "#folders_tina = [ 'upleash', 'kamera telefon' ] vo eden folder se\n",
        "folders_ivica = [ 'Daylight sky', 'Sky at night' ]"
      ],
      "execution_count": null,
      "outputs": []
    },
    {
      "cell_type": "code",
      "metadata": {
        "colab": {
          "base_uri": "https://localhost:8080/"
        },
        "id": "cm2KUXKhCCvH",
        "outputId": "e0a99eab-265c-48dc-eb97-a43033be7caf"
      },
      "source": [
        "os.chdir( '/content/drive/MyDrive/Pictures' )\n",
        "images = []\n",
        "\n",
        "for x in os.listdir() :\n",
        "    os.chdir( f'/content/drive/MyDrive/Pictures/{x}' )\n",
        "    print( len( os.listdir() ) )"
      ],
      "execution_count": 5,
      "outputs": [
        {
          "output_type": "stream",
          "text": [
            "717\n",
            "1\n",
            "1241\n",
            "2\n",
            "96\n",
            "202\n"
          ],
          "name": "stdout"
        }
      ]
    },
    {
      "cell_type": "code",
      "metadata": {
        "colab": {
          "base_uri": "https://localhost:8080/"
        },
        "id": "vSAxm8kuCmdf",
        "outputId": "1c93bde4-765c-49f0-d0a9-6c8b8686c06b"
      },
      "source": [
        "os.chdir( '/content/drive/MyDrive/Pictures/Tina/upleash' )\n",
        "print( len( os.listdir() ) )"
      ],
      "execution_count": null,
      "outputs": [
        {
          "output_type": "stream",
          "text": [
            "292\n"
          ],
          "name": "stdout"
        }
      ]
    },
    {
      "cell_type": "code",
      "metadata": {
        "colab": {
          "base_uri": "https://localhost:8080/"
        },
        "id": "aTpQnq1XCny1",
        "outputId": "b7c18ea1-211e-4290-a8d4-bacce57fb49c"
      },
      "source": [
        "os.chdir( '/content/drive/MyDrive/Pictures/Tina/kamera telefon' )\n",
        "print( len( os.listdir() ) )"
      ],
      "execution_count": null,
      "outputs": [
        {
          "output_type": "stream",
          "text": [
            "49\n"
          ],
          "name": "stdout"
        }
      ]
    },
    {
      "cell_type": "code",
      "metadata": {
        "colab": {
          "base_uri": "https://localhost:8080/"
        },
        "id": "Ik3RYS0FFUYu",
        "outputId": "a4e1635c-1394-466c-d590-798aca43dd05"
      },
      "source": [
        "os.chdir( '/content/drive/MyDrive/Pictures/Ivica/Daylight sky' )\n",
        "print( len( os.listdir() ) )"
      ],
      "execution_count": null,
      "outputs": [
        {
          "output_type": "stream",
          "text": [
            "100\n"
          ],
          "name": "stdout"
        }
      ]
    },
    {
      "cell_type": "code",
      "metadata": {
        "colab": {
          "base_uri": "https://localhost:8080/"
        },
        "id": "bLraxPnsFaE3",
        "outputId": "c4344fb5-d7a2-4dee-d921-4f25e9d33404"
      },
      "source": [
        "os.chdir( '/content/drive/MyDrive/Pictures/Ivica/Sky at night' )\n",
        "print( len( os.listdir() ) )"
      ],
      "execution_count": null,
      "outputs": [
        {
          "output_type": "stream",
          "text": [
            "64\n"
          ],
          "name": "stdout"
        }
      ]
    },
    {
      "cell_type": "code",
      "metadata": {
        "colab": {
          "base_uri": "https://localhost:8080/"
        },
        "id": "Xqm3W6QqFcy_",
        "outputId": "0a2e9d3b-d282-4a44-c8ef-5f5f5cdcb5c0"
      },
      "source": [
        "374 + 292 + 49 + 4575 + 959 + 164 + 96"
      ],
      "execution_count": null,
      "outputs": [
        {
          "output_type": "execute_result",
          "data": {
            "text/plain": [
              "6792"
            ]
          },
          "metadata": {
            "tags": []
          },
          "execution_count": 47
        }
      ]
    },
    {
      "cell_type": "code",
      "metadata": {
        "colab": {
          "base_uri": "https://localhost:8080/"
        },
        "id": "1MwKvCGIFlHM",
        "outputId": "ebf0e2ea-ab6e-4966-b2df-afd8e19aecf4"
      },
      "source": [
        "374 + 49 + 292"
      ],
      "execution_count": null,
      "outputs": [
        {
          "output_type": "execute_result",
          "data": {
            "text/plain": [
              "715"
            ]
          },
          "metadata": {
            "tags": []
          },
          "execution_count": 45
        }
      ]
    },
    {
      "cell_type": "code",
      "metadata": {
        "colab": {
          "base_uri": "https://localhost:8080/"
        },
        "id": "zE8vdsLXFuiz",
        "outputId": "a19da914-0915-4398-c0b9-6bfbdb7eb2bd"
      },
      "source": [
        "os.chdir( '/content/drive/MyDrive/Pictures/Dimitri' )\n",
        "print( len( os.listdir() ) )"
      ],
      "execution_count": 6,
      "outputs": [
        {
          "output_type": "stream",
          "text": [
            "1241\n"
          ],
          "name": "stdout"
        }
      ]
    },
    {
      "cell_type": "code",
      "metadata": {
        "colab": {
          "base_uri": "https://localhost:8080/"
        },
        "id": "M-EeBsF0llcD",
        "outputId": "38c3cf7f-62dd-4e0f-899b-80a547bf8cf5"
      },
      "source": [
        "os.chdir( '/content/drive/MyDrive/Pictures/Jasmina' )\r\n",
        "print( len( os.listdir() ) )"
      ],
      "execution_count": 16,
      "outputs": [
        {
          "output_type": "stream",
          "text": [
            "200\n"
          ],
          "name": "stdout"
        }
      ]
    },
    {
      "cell_type": "code",
      "metadata": {
        "colab": {
          "base_uri": "https://localhost:8080/"
        },
        "id": "uBlLSfMPVwby",
        "outputId": "ce527828-783b-462a-d4fd-f51b9c3c394e"
      },
      "source": [
        "os.chdir( '/content/drive/MyDrive/Pictures/Jasmina' )\n",
        "print( os.getcwd() ) \n",
        "COUNT = 1\n",
        "  \n",
        "def increment(): \n",
        "    global COUNT \n",
        "    COUNT = COUNT + 1\n",
        "\n",
        "for f in os.listdir(): \n",
        "    f_name, f_ext = os.path.splitext( f ) \n",
        "    f_name = str( COUNT ) \n",
        "    increment() \n",
        "  \n",
        "    new_name = 'j{}{}'.format( f_name, f_ext.lower() ) \n",
        "    os.rename( f, new_name )"
      ],
      "execution_count": 17,
      "outputs": [
        {
          "output_type": "stream",
          "text": [
            "/content/drive/MyDrive/Pictures/Jasmina\n"
          ],
          "name": "stdout"
        }
      ]
    },
    {
      "cell_type": "code",
      "metadata": {
        "colab": {
          "base_uri": "https://localhost:8080/"
        },
        "id": "0NvessqMVplo",
        "outputId": "1a06e88a-0552-4819-99b5-849cc6a559ae"
      },
      "source": [
        "len( os.listdir() )"
      ],
      "execution_count": 18,
      "outputs": [
        {
          "output_type": "execute_result",
          "data": {
            "text/plain": [
              "200"
            ]
          },
          "metadata": {
            "tags": []
          },
          "execution_count": 18
        }
      ]
    },
    {
      "cell_type": "code",
      "metadata": {
        "id": "yOB9AaWhQhHp"
      },
      "source": [
        "file_full = os.listdir()"
      ],
      "execution_count": 19,
      "outputs": []
    },
    {
      "cell_type": "code",
      "metadata": {
        "id": "5JhUk4ijTU4r"
      },
      "source": [
        "for x in file_full :\n",
        "    asd = x.split( \".\" )\n",
        "    if asd[ 1 ] != \"jpg\" :\n",
        "        print( x )\n",
        "        img = Image.open(x)\n",
        "        target_name = asd[ 0 ] + \".jpg\"\n",
        "        rgb_image = img.convert('RGB')\n",
        "        rgb_image.save(target_name)\n",
        "        print(\"Converted image saved as \" + target_name)"
      ],
      "execution_count": 20,
      "outputs": []
    },
    {
      "cell_type": "code",
      "metadata": {
        "id": "9SUNfKY-XWvC"
      },
      "source": [
        "for x in file_full :\n",
        "    asd = x.split( \".\" )\n",
        "    if asd[ 1 ] != \"jpg\" :\n",
        "        print( \"Removed :\" + x )\n",
        "        os.remove( x )"
      ],
      "execution_count": 21,
      "outputs": []
    },
    {
      "cell_type": "code",
      "metadata": {
        "id": "9m4PKhQkVTCA"
      },
      "source": [
        "et = []\n",
        "for x in file_full :\n",
        "    asd = x.split( \".\" )\n",
        "    et.append( asd[ 1 ] )"
      ],
      "execution_count": 22,
      "outputs": []
    },
    {
      "cell_type": "code",
      "metadata": {
        "colab": {
          "base_uri": "https://localhost:8080/"
        },
        "id": "2REk2Qv7YVq1",
        "outputId": "8f9efa56-57d2-40c9-c689-fdd0051e60b7"
      },
      "source": [
        "set( et )\n"
      ],
      "execution_count": 23,
      "outputs": [
        {
          "output_type": "execute_result",
          "data": {
            "text/plain": [
              "{'jpg'}"
            ]
          },
          "metadata": {
            "tags": []
          },
          "execution_count": 23
        }
      ]
    },
    {
      "cell_type": "code",
      "metadata": {
        "id": "BTkymT17Z598"
      },
      "source": [
        ""
      ],
      "execution_count": null,
      "outputs": []
    }
  ]
}