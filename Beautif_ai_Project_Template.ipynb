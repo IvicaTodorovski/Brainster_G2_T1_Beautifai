{
  "nbformat": 4,
  "nbformat_minor": 0,
  "metadata": {
    "kernelspec": {
      "display_name": "Python 3",
      "language": "python",
      "name": "python3"
    },
    "language_info": {
      "codemirror_mode": {
        "name": "ipython",
        "version": 3
      },
      "file_extension": ".py",
      "mimetype": "text/x-python",
      "name": "python",
      "nbconvert_exporter": "python",
      "pygments_lexer": "ipython3",
      "version": "3.6.2"
    },
    "colab": {
      "name": "Beautif.ai Project-Template.ipynb",
      "provenance": [],
      "collapsed_sections": []
    }
  },
  "cells": [
    {
      "cell_type": "markdown",
      "metadata": {
        "id": "poN0EiobyulJ"
      },
      "source": [
        "# Beautif.ai classification\n",
        "\n",
        "The goal of your project is to create a robust classifier, to collect data and prepare custom dataset.  \n",
        "You will build a model that will recognize 4 types of natural events in nature/indoor/outdoor:\n",
        "\n",
        "* Daylight sky \n",
        "  * <img src = \"https://ak.picdn.net/shutterstock/videos/7077064/thumb/1.jpg\" width = \"50%\" height=\"50%\">\n",
        "* Sky at night\n",
        "  * <img src=\"https://i.pinimg.com/originals/ec/98/dd/ec98dd97904e60661b1d545a88006e6a.jpg\" width=\"50%\" height=\"50%\"/>\n",
        "\n",
        "* Picture doesn't contain sky (no matter it's day or night)\n",
        "  * <img src= \"https://www.hotelsolun.com/application/files/5515/6285/1004/1X9A8812.jpg\" width=\"50%\" height=\"50%\"/>\n",
        "\n",
        "\n",
        "This project consists of the following activities :\n",
        "\n",
        "\n",
        "1. Phase 1 : Dataset\n",
        "    * Team Planning\n",
        "    * Full git project Integration\n",
        "    * General Project Research\n",
        "    * Dataset Collection\n",
        "    * Dataset Preparation\n",
        "2. Phase 2 : Training\n",
        "    * Research about neural networks\n",
        "    * Compose neural network architectures\n",
        "    * Ping Pong phase with Dataset labelers\n",
        "    * Generate syntethic data if needed\n",
        "    * Fine tunning of your model\n",
        "3. Phase 3 : Deployment\n",
        "    * Analysis and benchmark Precision/Recall\n",
        "    * Model Deploy (Git)\n",
        "    * Write git Readme.md file\n",
        "    * Receive Feedback from PM\n"
      ]
    },
    {
      "cell_type": "markdown",
      "metadata": {
        "id": "DGpsyCDfyulK"
      },
      "source": [
        "# Load Data"
      ]
    },
    {
      "cell_type": "code",
      "metadata": {
        "id": "jGAFlNtCyulL"
      },
      "source": [
        ""
      ],
      "execution_count": null,
      "outputs": []
    },
    {
      "cell_type": "markdown",
      "metadata": {
        "id": "ScYM7QM0yulP"
      },
      "source": [
        "# Visualize Data Distribution"
      ]
    },
    {
      "cell_type": "code",
      "metadata": {
        "id": "PlgQojlnyulQ"
      },
      "source": [
        ""
      ],
      "execution_count": null,
      "outputs": []
    },
    {
      "cell_type": "markdown",
      "metadata": {
        "id": "cOl2iwS9yulT"
      },
      "source": [
        "# Define Model Architecture"
      ]
    },
    {
      "cell_type": "code",
      "metadata": {
        "id": "7CD_y3cJyulT"
      },
      "source": [
        ""
      ],
      "execution_count": null,
      "outputs": []
    },
    {
      "cell_type": "markdown",
      "metadata": {
        "id": "fOc4ijK9yulX"
      },
      "source": [
        "# Define Loss Function, Optimizator"
      ]
    },
    {
      "cell_type": "code",
      "metadata": {
        "id": "DAPkA5bryulX"
      },
      "source": [
        ""
      ],
      "execution_count": null,
      "outputs": []
    },
    {
      "cell_type": "markdown",
      "metadata": {
        "id": "uPEOcedkyula"
      },
      "source": [
        "# Define Augmentator "
      ]
    },
    {
      "cell_type": "code",
      "metadata": {
        "id": "_PvEhdO9yulb"
      },
      "source": [
        ""
      ],
      "execution_count": null,
      "outputs": []
    },
    {
      "cell_type": "markdown",
      "metadata": {
        "id": "uKHRUwjPyule"
      },
      "source": [
        "# Example :  \n",
        "   Provide several examples of predictions along with softmax score probability"
      ]
    },
    {
      "cell_type": "markdown",
      "metadata": {
        "id": "U0tGN8bXyulf"
      },
      "source": [
        "# Benchmark"
      ]
    },
    {
      "cell_type": "code",
      "metadata": {
        "id": "mOA6vRvbyulf"
      },
      "source": [
        ""
      ],
      "execution_count": null,
      "outputs": []
    },
    {
      "cell_type": "markdown",
      "metadata": {
        "id": "H9xzcl-dyuli"
      },
      "source": [
        "# Summary about your results"
      ]
    },
    {
      "cell_type": "code",
      "metadata": {
        "id": "s_q7HPFFyulj"
      },
      "source": [
        ""
      ],
      "execution_count": null,
      "outputs": []
    }
  ]
}